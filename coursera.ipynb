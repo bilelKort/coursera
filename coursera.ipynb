{
 "cells": [
  {
   "cell_type": "code",
   "execution_count": 1,
   "metadata": {},
   "outputs": [
    {
     "name": "stdout",
     "output_type": "stream",
     "text": [
      "My Jupyter Notebook\n"
     ]
    }
   ],
   "source": [
    "print(\"My Jupyter Notebook\")"
   ]
  },
  {
   "cell_type": "code",
   "execution_count": 2,
   "metadata": {},
   "outputs": [
    {
     "name": "stdout",
     "output_type": "stream",
     "text": [
      "hello in my notebook where i was doing my ibm course homework!\n"
     ]
    }
   ],
   "source": [
    "print(\"hello in my notebook where i was doing my ibm course homework!\")"
   ]
  },
  {
   "cell_type": "code",
   "execution_count": 3,
   "metadata": {},
   "outputs": [
    {
     "name": "stdout",
     "output_type": "stream",
     "text": [
      "['python', 'R', 'SQL']\n"
     ]
    }
   ],
   "source": [
    "dataScienceLanguages = [\"python\",\"R\",\"SQL\"]\n",
    "print(dataScienceLanguages)"
   ]
  },
  {
   "cell_type": "code",
   "execution_count": 4,
   "metadata": {},
   "outputs": [
    {
     "name": "stdout",
     "output_type": "stream",
     "text": [
      "['TensorFlow', 'numpy', 'seaborn', 'scikit-learn']\n"
     ]
    }
   ],
   "source": [
    "dataScienceLibraries = [\"TensorFlow\",\"numpy\",\"seaborn\",\"scikit-learn\"]\n",
    "print(dataScienceLibraries)"
   ]
  },
  {
   "cell_type": "code",
   "execution_count": 9,
   "metadata": {},
   "outputs": [
    {
     "data": {
      "text/plain": [
       "[' Jupyter notebook', 'github', 'waston studio', 'r studio']"
      ]
     },
     "execution_count": 9,
     "metadata": {},
     "output_type": "execute_result"
    }
   ],
   "source": [
    "dataScienceTools = [\" Jupyter notebook\",\"github\",\"waston studio\",\"r studio\"]\n",
    "dataScienceTools"
   ]
  },
  {
   "cell_type": "code",
   "execution_count": 5,
   "metadata": {},
   "outputs": [
    {
     "data": {
      "text/plain": [
       "25"
      ]
     },
     "execution_count": 5,
     "metadata": {},
     "output_type": "execute_result"
    }
   ],
   "source": [
    "def calc(a,b):\n",
    "    x=a**b\n",
    "    return x\n",
    "\n",
    "calc(5,2)"
   ]
  },
  {
   "cell_type": "code",
   "execution_count": 6,
   "metadata": {},
   "outputs": [
    {
     "data": {
      "text/plain": [
       "25"
      ]
     },
     "execution_count": 6,
     "metadata": {},
     "output_type": "execute_result"
    }
   ],
   "source": [
    "def multiplyAdd(a,b):\n",
    "    return a*b\n",
    "\n",
    "multiplyAdd(5,5)"
   ]
  },
  {
   "cell_type": "code",
   "execution_count": 7,
   "metadata": {},
   "outputs": [
    {
     "data": {
      "text/plain": [
       "2.0"
      ]
     },
     "execution_count": 7,
     "metadata": {},
     "output_type": "execute_result"
    }
   ],
   "source": [
    "def minToHrs(x):\n",
    "    return x/60\n",
    "\n",
    "minToHrs(120)"
   ]
  },
  {
   "cell_type": "code",
   "execution_count": 8,
   "metadata": {},
   "outputs": [
    {
     "name": "stdout",
     "output_type": "stream",
     "text": [
      "['finsih ibm courses', 'going forward']\n"
     ]
    }
   ],
   "source": [
    "Objectives = [\"finsih ibm courses\",\"going forward\"]\n",
    "print(Objectives)"
   ]
  },
  {
   "cell_type": "code",
   "execution_count": null,
   "metadata": {},
   "outputs": [],
   "source": [
    "print(\" Author’s name:Bilel kort\")"
   ]
  }
 ],
 "metadata": {
  "kernelspec": {
   "display_name": "Python 3",
   "language": "python",
   "name": "python3"
  },
  "language_info": {
   "codemirror_mode": {
    "name": "ipython",
    "version": 3
   },
   "file_extension": ".py",
   "mimetype": "text/x-python",
   "name": "python",
   "nbconvert_exporter": "python",
   "pygments_lexer": "ipython3",
   "version": "3.10.8"
  },
  "orig_nbformat": 4,
  "vscode": {
   "interpreter": {
    "hash": "b27553f45006446a9b29442c87c251c016377473af65614a946c923584db80e8"
   }
  }
 },
 "nbformat": 4,
 "nbformat_minor": 2
}
